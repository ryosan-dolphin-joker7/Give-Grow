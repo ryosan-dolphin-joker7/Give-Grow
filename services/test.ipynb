{
 "cells": [
  {
   "cell_type": "code",
   "execution_count": 7,
   "metadata": {},
   "outputs": [],
   "source": [
    "import sqlite3\n",
    "import re\n",
    "\n",
    "def extract_name(title):\n",
    "    pattern = r'『([^』]+)』'\n",
    "    match = re.search(pattern, title)\n",
    "    if match:\n",
    "        return match.group(1)\n",
    "    else:\n",
    "        return None  # 名前が見つからない場合"
   ]
  },
  {
   "cell_type": "code",
   "execution_count": 8,
   "metadata": {},
   "outputs": [],
   "source": [
    "\n",
    "\n",
    "def update_database_with_authors(db_path):\n",
    "    conn = sqlite3.connect(db_path)\n",
    "    cursor = conn.cursor()\n",
    "\n",
    "    # 全てのタイトルとIDを取得\n",
    "    cursor.execute(\"SELECT id, title FROM quotes\")\n",
    "    quotes = cursor.fetchall()\n",
    "\n",
    "    # 各タイトルから名前を抽出し、データベースを更新\n",
    "    for quote_id, title in quotes:\n",
    "        author_name = extract_name(title)\n",
    "        if author_name:\n",
    "            cursor.execute(\"UPDATE quotes SET author = ? WHERE id = ?\", (author_name, quote_id))\n",
    "\n",
    "    # 変更をコミット\n",
    "    conn.commit()\n",
    "    conn.close()\n",
    "\n",
    "# データベースのパスを指定\n",
    "db_path = 'quotes_20240417_135122_加工用.db'\n",
    "update_database_with_authors(db_path)\n"
   ]
  },
  {
   "cell_type": "code",
   "execution_count": 1,
   "metadata": {},
   "outputs": [],
   "source": [
    "\n",
    "import sqlite3\n",
    "\n",
    "def check_table_schema(db_path):\n",
    "    conn = sqlite3.connect(db_path)\n",
    "    cursor = conn.cursor()\n",
    "    cursor.execute(\"PRAGMA table_info(quotes)\")\n",
    "    columns = cursor.fetchall()\n",
    "    conn.close()\n",
    "    return columns\n",
    "\n",
    "# データベースのパスを指定\n",
    "db_path = 'quotes_20240417_135122_加工用.db'\n",
    "columns = check_table_schema(db_path)\n",
    "for col in columns:\n",
    "    print(col)\n"
   ]
  },
  {
   "cell_type": "code",
   "execution_count": 6,
   "metadata": {},
   "outputs": [],
   "source": [
    "import sqlite3\n",
    "\n",
    "def add_id_column(db_path):\n",
    "    conn = sqlite3.connect(db_path)\n",
    "    cursor = conn.cursor()\n",
    "\n",
    "\n",
    "\n",
    "    # 新しいテーブル構造でテーブルを作成（URLカラムを含む）\n",
    "    cursor.execute(\"\"\"\n",
    "        CREATE TABLE quotes (\n",
    "            id INTEGER PRIMARY KEY AUTOINCREMENT,\n",
    "            title TEXT,\n",
    "            quote TEXT,\n",
    "            author TEXT,\n",
    "            url TEXT  -- URLカラムを追加\n",
    "        );\n",
    "    \"\"\")\n",
    "\n",
    "    # バックアップしたテーブルから新しいテーブルへデータを移行\n",
    "    cursor.execute(\"\"\"\n",
    "        INSERT INTO quotes (title, quote, author, url)\n",
    "        SELECT title, quote, author, url FROM quotes_backup;\n",
    "    \"\"\")\n",
    "\n",
    "    # バックアップした古いテーブルを削除（オプション）\n",
    "    cursor.execute(\"DROP TABLE quotes_backup;\")\n",
    "\n",
    "    # 変更をコミット\n",
    "    conn.commit()\n",
    "    conn.close()\n",
    "\n",
    "# データベースのパスを指定\n",
    "db_path = 'quotes_20240417_135122_加工用.db'\n",
    "add_id_column(db_path)\n"
   ]
  },
  {
   "cell_type": "code",
   "execution_count": 9,
   "metadata": {},
   "outputs": [
    {
     "name": "stdout",
     "output_type": "stream",
     "text": [
      "Removed rows with NULL in author\n"
     ]
    }
   ],
   "source": [
    "import sqlite3\n",
    "\n",
    "def remove_null_rows(db_path, column_name):\n",
    "    conn = sqlite3.connect(db_path)\n",
    "    cursor = conn.cursor()\n",
    "    # NULL値を含む行を削除\n",
    "    cursor.execute(f\"DELETE FROM quotes WHERE {column_name} IS NULL;\")\n",
    "    conn.commit()\n",
    "    conn.close()\n",
    "    print(f\"Removed rows with NULL in {column_name}\")\n",
    "\n",
    "# データベースのパスを指定\n",
    "db_path = 'quotes_20240417_135122_加工用.db'\n",
    "# NULL値を削除したいカラム名\n",
    "column_name = 'author'\n",
    "remove_null_rows(db_path, column_name)\n"
   ]
  },
  {
   "cell_type": "code",
   "execution_count": null,
   "metadata": {},
   "outputs": [],
   "source": []
  }
 ],
 "metadata": {
  "kernelspec": {
   "display_name": "python-env",
   "language": "python",
   "name": "python3"
  },
  "language_info": {
   "codemirror_mode": {
    "name": "ipython",
    "version": 3
   },
   "file_extension": ".py",
   "mimetype": "text/x-python",
   "name": "python",
   "nbconvert_exporter": "python",
   "pygments_lexer": "ipython3",
   "version": "3.11.8"
  }
 },
 "nbformat": 4,
 "nbformat_minor": 2
}
