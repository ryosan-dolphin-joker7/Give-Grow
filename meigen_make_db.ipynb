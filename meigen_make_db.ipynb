{
 "cells": [
  {
   "cell_type": "code",
   "execution_count": 2,
   "metadata": {},
   "outputs": [],
   "source": [
    "import requests\n",
    "from bs4 import BeautifulSoup\n",
    "import pandas as pd\n",
    "import sqlite3\n",
    "import logging\n",
    "from datetime import datetime"
   ]
  },
  {
   "cell_type": "code",
   "execution_count": 3,
   "metadata": {},
   "outputs": [
    {
     "name": "stderr",
     "output_type": "stream",
     "text": [
      "2024-04-20 08:52:42,190 - INFO - Scraping https://bontoku.com/page/1/\n"
     ]
    },
    {
     "name": "stderr",
     "output_type": "stream",
     "text": [
      "2024-04-20 08:52:42,918 - INFO - Extracting quotes from https://bontoku.com/meigen-yorokobareruhitoni\n",
      "2024-04-20 08:52:43,668 - INFO - Extracting quotes from https://bontoku.com/meigen-nagamatusigehisa\n",
      "2024-04-20 08:52:44,531 - INFO - Extracting quotes from https://bontoku.com/akindle-sellinfo\n",
      "2024-04-20 08:52:46,702 - INFO - Extracting quotes from https://bontoku.com/meigen-nisioiti\n",
      "2024-04-20 08:52:47,572 - INFO - Data successfully saved to quotes_20240420_085247.db\n"
     ]
    }
   ],
   "source": [
    "# ロギングの設定\n",
    "logging.basicConfig(level=logging.INFO, format='%(asctime)s - %(levelname)s - %(message)s')\n",
    "\n",
    "# スクレイピング関数の定義\n",
    "def scrape_page(url):\n",
    "    try:\n",
    "        response = requests.get(url)\n",
    "        soup = BeautifulSoup(response.content, 'html.parser')\n",
    "        articles = soup.find_all('a', href=True)\n",
    "        urls_titles = []\n",
    "        for a_tag in articles:\n",
    "            h2_tag = a_tag.find('h2')\n",
    "            if h2_tag:\n",
    "                urls_titles.append({\n",
    "                    \"Title\": h2_tag.text,\n",
    "                    \"URL\": a_tag['href']\n",
    "                })\n",
    "        return urls_titles\n",
    "    except requests.RequestException as e:\n",
    "        logging.error(f\"Error fetching {url}: {e}\")\n",
    "        return []\n",
    "\n",
    "# スクレイピング開始処理\n",
    "def start_scraping(base_url, max_pages):\n",
    "    all_data = []\n",
    "    for page_num in range(1, max_pages + 1):\n",
    "        current_url = f\"{base_url}/page/{page_num}/\"\n",
    "        logging.info(f\"Scraping {current_url}\")\n",
    "        data = scrape_page(current_url)\n",
    "        all_data.extend(data)\n",
    "    return all_data\n",
    "\n",
    "# ページから名言を抽出する関数\n",
    "def extract_quotes(url):\n",
    "    try:\n",
    "        response = requests.get(url)\n",
    "        soup = BeautifulSoup(response.content, 'html.parser')\n",
    "        divs = soup.find_all('div', class_='blank-box bb-green')\n",
    "        quotes_texts = []\n",
    "        for div in divs:\n",
    "            strong_tags = div.find_all('strong')\n",
    "            combined_text = ' '.join(tag.get_text(strip=True) for tag in strong_tags)\n",
    "            if combined_text:\n",
    "                quotes_texts.append(combined_text)\n",
    "        return quotes_texts\n",
    "    except Exception as e:\n",
    "        logging.error(f\"Error extracting quotes from {url}: {e}\")\n",
    "        return []\n",
    "\n",
    "# 全てのURLに対して名言を抽出し、リストに追加\n",
    "def scrape_all_quotes(urls_titles):\n",
    "    all_quotes = []\n",
    "    for url_title in urls_titles:\n",
    "        logging.info(f\"Extracting quotes from {url_title['URL']}\")\n",
    "        quotes = extract_quotes(url_title['URL'])\n",
    "        for quote in quotes:\n",
    "            all_quotes.append({\"Title\": url_title['Title'], \"Quote\": quote, \"URL\": url_title['URL']})\n",
    "    return all_quotes\n",
    "\n",
    "#DBファイルとして保存する関数\n",
    "def save_to_database(quotes, db_name=None):\n",
    "    if db_name is None:\n",
    "        date_str = datetime.now().strftime(\"%Y%m%d_%H%M%S\")\n",
    "        db_name = f'quotes_{date_str}.db'\n",
    "    \n",
    "    try:\n",
    "        df = pd.DataFrame(quotes)\n",
    "        conn = sqlite3.connect(db_name)\n",
    "        df.to_sql('quotes', conn, if_exists='append', index=False)\n",
    "        conn.close()\n",
    "        logging.info(f\"Data successfully saved to {db_name}\")\n",
    "    except Exception as e:\n",
    "        logging.error(f\"Error saving data to database: {e}\")\n",
    "\n",
    "# 実行部分 もともとは　213pages\n",
    "if __name__ == \"__main__\":\n",
    "    base_url = \"https://bontoku.com\"\n",
    "    max_pages = 1\n",
    "    scraped_data = start_scraping(base_url, max_pages)\n",
    "    all_quotes = scrape_all_quotes(scraped_data)\n",
    "    save_to_database(all_quotes)\n"
   ]
  },
  {
   "cell_type": "code",
   "execution_count": 5,
   "metadata": {},
   "outputs": [
    {
     "ename": "OperationalError",
     "evalue": "no such table: quotes",
     "output_type": "error",
     "traceback": [
      "\u001b[1;31m---------------------------------------------------------------------------\u001b[0m",
      "\u001b[1;31mOperationalError\u001b[0m                          Traceback (most recent call last)",
      "Cell \u001b[1;32mIn[5], line 19\u001b[0m\n\u001b[0;32m     13\u001b[0m delete_queries \u001b[38;5;241m=\u001b[39m [\n\u001b[0;32m     14\u001b[0m     \u001b[38;5;124m\"\u001b[39m\u001b[38;5;124mDELETE FROM quotes WHERE Quote LIKE \u001b[39m\u001b[38;5;124m'\u001b[39m\u001b[38;5;124m%\u001b[39m\u001b[38;5;124m下に目次あります\u001b[39m\u001b[38;5;124m%\u001b[39m\u001b[38;5;124m'\u001b[39m\u001b[38;5;124m\"\u001b[39m,\n\u001b[0;32m     15\u001b[0m     \u001b[38;5;124m\"\u001b[39m\u001b[38;5;124mDELETE FROM quotes WHERE Quote LIKE \u001b[39m\u001b[38;5;124m'\u001b[39m\u001b[38;5;124m%\u001b[39m\u001b[38;5;124m↓目次をクリック↓\u001b[39m\u001b[38;5;124m%\u001b[39m\u001b[38;5;124m'\u001b[39m\u001b[38;5;124m\"\u001b[39m\n\u001b[0;32m     16\u001b[0m ]\n\u001b[0;32m     18\u001b[0m \u001b[38;5;28;01mfor\u001b[39;00m query \u001b[38;5;129;01min\u001b[39;00m delete_queries:\n\u001b[1;32m---> 19\u001b[0m     \u001b[43mcursor\u001b[49m\u001b[38;5;241;43m.\u001b[39;49m\u001b[43mexecute\u001b[49m\u001b[43m(\u001b[49m\u001b[43mquery\u001b[49m\u001b[43m)\u001b[49m\n\u001b[0;32m     20\u001b[0m     \u001b[38;5;28mprint\u001b[39m(\u001b[38;5;124mf\u001b[39m\u001b[38;5;124m\"\u001b[39m\u001b[38;5;124mDeleted rows: \u001b[39m\u001b[38;5;132;01m{\u001b[39;00mcursor\u001b[38;5;241m.\u001b[39mrowcount\u001b[38;5;132;01m}\u001b[39;00m\u001b[38;5;124m\"\u001b[39m)  \u001b[38;5;66;03m# 削除された行数を表示\u001b[39;00m\n\u001b[0;32m     22\u001b[0m \u001b[38;5;66;03m# 変更をコミットして接続を閉じる\u001b[39;00m\n",
      "\u001b[1;31mOperationalError\u001b[0m: no such table: quotes"
     ]
    }
   ],
   "source": [
    "#dbのクレンジング\n",
    "\n",
    "import sqlite3\n",
    "\n",
    "# データベース名を指定\n",
    "db_name = 'quotes_20240417_135122_加工用.db'  # ここに実際のデータベースファイル名を入力してください\n",
    "\n",
    "# SQLiteに接続\n",
    "conn = sqlite3.connect(db_name)\n",
    "cursor = conn.cursor()\n",
    "\n",
    "# 不要な行を削除\n",
    "delete_queries = [\n",
    "    \"DELETE FROM quotes WHERE Quote LIKE '%下に目次あります%'\",\n",
    "    \"DELETE FROM quotes WHERE Quote LIKE '%↓目次をクリック↓%'\"\n",
    "]\n",
    "\n",
    "for query in delete_queries:\n",
    "    cursor.execute(query)\n",
    "    print(f\"Deleted rows: {cursor.rowcount}\")  # 削除された行数を表示\n",
    "\n",
    "# 変更をコミットして接続を閉じる\n",
    "conn.commit()\n",
    "conn.close()\n",
    "\n",
    "print(\"The database has been updated.\")\n"
   ]
  }
 ],
 "metadata": {
  "kernelspec": {
   "display_name": "python-env",
   "language": "python",
   "name": "python3"
  },
  "language_info": {
   "codemirror_mode": {
    "name": "ipython",
    "version": 3
   },
   "file_extension": ".py",
   "mimetype": "text/x-python",
   "name": "python",
   "nbconvert_exporter": "python",
   "pygments_lexer": "ipython3",
   "version": "3.12.1"
  }
 },
 "nbformat": 4,
 "nbformat_minor": 2
}
